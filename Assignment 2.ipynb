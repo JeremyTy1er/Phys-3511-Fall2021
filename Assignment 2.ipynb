{
 "cells": [
  {
   "cell_type": "code",
   "execution_count": null,
   "id": "1a4fdfcc",
   "metadata": {},
   "outputs": [],
   "source": [
    "import matplotlib.pyplot as plt\n",
    "import numpy as np\n",
    "import math\n",
    "import scipy"
   ]
  },
  {
   "cell_type": "code",
   "execution_count": null,
   "id": "50b94c3e",
   "metadata": {},
   "outputs": [],
   "source": [
    "f2 = lambda x : 2/((2**2+x**2)**(3/2)) \n",
    "\n",
    "\n",
    "def mid(f, a, b, n):\n",
    "    dx = float(b - a)/n\n",
    "    area = 0\n",
    "    for i in range (0,n):\n",
    "        area += dx*f(a+(dx/2+i*dx))\n",
    "    return area\n",
    "\n",
    "mid(f2, 0, 2, 6)"
   ]
  },
  {
   "cell_type": "code",
   "execution_count": null,
   "id": "de6d71b9",
   "metadata": {},
   "outputs": [],
   "source": [
    "def trap(f, a, b, n):\n",
    "    x = np.linspace(a, b, n+1)\n",
    "    dx = float(b - a)/n\n",
    "    y = f(x)\n",
    "    x2 = y[1:] \n",
    "    x1 = y[:-1]\n",
    "    ans = (dx/2) * np.sum(x2 + x1)\n",
    "    return ans\n",
    "\n",
    "trap(f2, 0, 2, 6)"
   ]
  },
  {
   "cell_type": "code",
   "execution_count": null,
   "id": "e08e8e96",
   "metadata": {},
   "outputs": [],
   "source": [
    "Srule = (2/3)*mid(f2, 0, 2, 6) + (1/3)*trap(f2, 0, 2, 6)\n",
    "\n",
    "Srule"
   ]
  },
  {
   "cell_type": "code",
   "execution_count": null,
   "id": "7822eeb8",
   "metadata": {},
   "outputs": [],
   "source": [
    "exact = 0.3535533905932738\n",
    "\n",
    "diff_midd = (100*(mid(f2, 0, 2, 6) - exact)/exact)\n",
    "\n",
    "diff_trap = (100*(trap(f2, 0, 2, 6) - exact)/exact)\n",
    "\n",
    "diff_srule = (100*(Srule - exact)/exact)\n",
    "\n",
    "print('The percent difference of the implemented mid-point rule is', diff_midd,'%')\n",
    "print('The percent difference of the implemented trapezoid rule is', abs(diff_trap),'%')\n",
    "print('The percent difference of the implemented simpsons rule is', abs(diff_srule),'%')\n",
    "\n",
    "#The simpsons rule method has the least percent error"
   ]
  }
 ],
 "metadata": {
  "kernelspec": {
   "display_name": "Python 3",
   "language": "python",
   "name": "python3"
  },
  "language_info": {
   "codemirror_mode": {
    "name": "ipython",
    "version": 3
   },
   "file_extension": ".py",
   "mimetype": "text/x-python",
   "name": "python",
   "nbconvert_exporter": "python",
   "pygments_lexer": "ipython3",
   "version": "3.8.8"
  }
 },
 "nbformat": 4,
 "nbformat_minor": 5
}
