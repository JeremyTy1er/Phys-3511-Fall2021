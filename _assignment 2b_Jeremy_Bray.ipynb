{
 "cells": [
  {
   "cell_type": "code",
   "execution_count": 1,
   "id": "a0d286d7",
   "metadata": {},
   "outputs": [],
   "source": [
    "import matplotlib.pyplot as plt\n",
    "import numpy as np\n",
    "import scipy\n",
    "import math\n",
    "from scipy import optimize\n",
    "from scipy.optimize import curve_fit \n",
    "import scipy.special as sf"
   ]
  },
  {
   "cell_type": "code",
   "execution_count": 2,
   "id": "f6ac330a",
   "metadata": {},
   "outputs": [],
   "source": [
    "n, W, err = np.loadtxt('Wmass_data.txt', unpack=True)"
   ]
  },
  {
   "cell_type": "code",
   "execution_count": 3,
   "id": "1b0e630c",
   "metadata": {},
   "outputs": [
    {
     "name": "stdout",
     "output_type": "stream",
     "text": [
      "initial fit\n",
      "[80.37914613]\n",
      "\n",
      "\n",
      "[[0.00010688]]\n"
     ]
    }
   ],
   "source": [
    "def func_lin(W,a):\n",
    "    return a \n",
    "\n",
    "n_fst, fst = curve_fit(func_lin, n, W, sigma=err, absolute_sigma=True)\n",
    "\n",
    "print(\"initial fit\")\n",
    "print(n_fst)\n",
    "print('\\n')\n",
    "print(fst)"
   ]
  },
  {
   "cell_type": "code",
   "execution_count": 30,
   "id": "158d63b6",
   "metadata": {},
   "outputs": [
    {
     "name": "stdout",
     "output_type": "stream",
     "text": [
      "fit Wmass =  80.37914612783638  +/- [0.01033819] \n"
     ]
    }
   ],
   "source": [
    "Fit1_err = fst[0]**0.5\n",
    "Fit1_n = n_fst[0]\n",
    "\n",
    "print('fit Wmass = ',Fit1_n,' +/-', Fit1_err,'')"
   ]
  },
  {
   "cell_type": "code",
   "execution_count": 10,
   "id": "d4fe36ca",
   "metadata": {},
   "outputs": [
    {
     "data": {
      "image/png": "[encoded data removed]",
      "text/plain": [
       "<Figure size 432x288 with 1 Axes>"
      ]
     },
     "metadata": {
      "needs_background": "light"
     },
     "output_type": "display_data"
    }
   ],
   "source": [
    "fig = plt.figure()\n",
    "axes = fig.add_axes([0.1,0.1,0.8,0.8])\n",
    "axes.set_title('Fit')\n",
    "axes.set_xlabel('number of measurements')\n",
    "axes.set_ylabel('Wmass')\n",
    "\n",
    "axes.errorbar(n, W, yerr = err, fmt='.', label = 'Error')\n",
    "plt.axhline(y=func_lin(n, *n_fst), color='r', linestyle='-');"
   ]
  },
  {
   "cell_type": "code",
   "execution_count": 11,
   "id": "7f10f33c",
   "metadata": {},
   "outputs": [],
   "source": [
    "Fit1_chisq = np.sum( (W - func_lin(n,*n_fst))**2/err**2)\n",
    "dof = len(W) - len(n_fst) - 1\n",
    "\n",
    "p = sf.gammaincc(dof/2.0, Fit1_chisq/2.0)"
   ]
  },
  {
   "cell_type": "code",
   "execution_count": 12,
   "id": "7cd75a83",
   "metadata": {},
   "outputs": [
    {
     "name": "stdout",
     "output_type": "stream",
     "text": [
      "Results\n",
      "\n",
      " chi2 =  8.706836513332618 \n",
      " dof =  7 \n",
      " reduced chi2 =  1.2438337876189454 \n",
      " p =  0.27439480922611664\n"
     ]
    }
   ],
   "source": [
    "print('Results\\n')\n",
    "print(' chi2 = ',Fit1_chisq,'\\n dof = ', dof, '\\n reduced chi2 = ', Fit1_chisq/dof, '\\n p = ',p)"
   ]
  },
  {
   "cell_type": "code",
   "execution_count": 13,
   "id": "948ea4cf",
   "metadata": {},
   "outputs": [],
   "source": [
    "N, r, er = np.loadtxt('proton_radius_data.txt', unpack=True)"
   ]
  },
  {
   "cell_type": "code",
   "execution_count": 14,
   "id": "39257a1e",
   "metadata": {},
   "outputs": [
    {
     "name": "stdout",
     "output_type": "stream",
     "text": [
      "initial fit\n",
      "[0.84162252]\n",
      "\n",
      "\n",
      "[[1.11377068e-07]]\n"
     ]
    }
   ],
   "source": [
    "def func_line(N, c):\n",
    "    return c\n",
    "\n",
    "nrad, rad = curve_fit(func_line, N, r, sigma=er, absolute_sigma=True)\n",
    "\n",
    "print(\"initial fit\")\n",
    "print(nrad)\n",
    "print('\\n')\n",
    "print(rad)"
   ]
  },
  {
   "cell_type": "code",
   "execution_count": 60,
   "id": "e96e77de",
   "metadata": {},
   "outputs": [
    {
     "name": "stdout",
     "output_type": "stream",
     "text": [
      "Fit Radius =  0.8416225241593092  +/- [0.00033373] \n"
     ]
    }
   ],
   "source": [
    "Fit_er = rad[0]**0.5\n",
    "Fit_m = nrad[0]\n",
    "\n",
    "print('Fit Radius = ',Fit_m,' +/-', Fit_er,'')\n",
    "\n"
   ]
  },
  {
   "cell_type": "code",
   "execution_count": 61,
   "id": "1d13f7ca",
   "metadata": {},
   "outputs": [
    {
     "data": {
      "image/png": "[encoded data removed]",
      "text/plain": [
       "<Figure size 432x288 with 1 Axes>"
      ]
     },
     "metadata": {
      "needs_background": "light"
     },
     "output_type": "display_data"
    }
   ],
   "source": [
    "fig = plt.figure()\n",
    "axes = fig.add_axes([0.1,0.1,0.8,0.8])\n",
    "axes.set_title('Fit')\n",
    "axes.set_xlabel('number of measurements')\n",
    "axes.set_ylabel('Radius')\n",
    "\n",
    "axes.errorbar(N, r, yerr = er, fmt='.', label = 'Error')\n",
    "plt.axhline(y=func_line(N, *nrad), color='r', linestyle='-');"
   ]
  },
  {
   "cell_type": "code",
   "execution_count": 62,
   "id": "79f07a5c",
   "metadata": {},
   "outputs": [
    {
     "name": "stdout",
     "output_type": "stream",
     "text": [
      "Results\n",
      "\n",
      " chi2 =  222.8986182713528 \n",
      " dof =  13 \n",
      " reduced chi2 =  17.146047559334832 \n",
      " p =  0.27439480922611664\n"
     ]
    }
   ],
   "source": [
    "Fit_chisq = np.sum( (r - func_line(N,*nrad))**2/er**2)\n",
    "dof1 = len(r) - len(nrad) - 1\n",
    "\n",
    "p1 = sf.gammaincc(dof/2.0, Fit1_chisq/2.0)\n",
    "\n",
    "print('Results\\n')\n",
    "print(' chi2 = ',Fit_chisq,'\\n dof = ', dof1, '\\n reduced chi2 = ', Fit_chisq/dof1, '\\n p = ', p1)"
   ]
  },
  {
   "cell_type": "code",
   "execution_count": 63,
   "id": "91e25ea5",
   "metadata": {},
   "outputs": [],
   "source": [
    "ep, nn, ero = np.loadtxt('Ep_data.txt', unpack=True)"
   ]
  },
  {
   "cell_type": "code",
   "execution_count": 132,
   "id": "fdbb45a2",
   "metadata": {},
   "outputs": [
    {
     "name": "stdout",
     "output_type": "stream",
     "text": [
      "Fit\n",
      "[  1.17039483  -6.42210147 532.33012087]\n",
      "\n",
      "\n",
      "[[ 9.95841856e-02 -7.20099634e+00  2.47845648e+02]\n",
      " [-7.20099634e+00  5.54780587e+02 -1.98947848e+04]\n",
      " [ 2.47845648e+02 -1.98947848e+04  7.52276130e+05]]\n"
     ]
    }
   ],
   "source": [
    "def gauss1(nn, p1, p2, p3):\n",
    "    return p1*np.exp(-((nn-p2)**2)/(2*p3))\n",
    "\n",
    "\n",
    "neep, eep = curve_fit(gauss1, nn, ep, sigma=ero, absolute_sigma=True)\n",
    "\n",
    "print(\"Fit\")\n",
    "print(neep)\n",
    "print('\\n')\n",
    "print(eep)"
   ]
  },
  {
   "cell_type": "code",
   "execution_count": 122,
   "id": "38ce1cc6",
   "metadata": {},
   "outputs": [
    {
     "name": "stdout",
     "output_type": "stream",
     "text": [
      "\n",
      " e/p =  -6.422101468549801  +/- [        nan 23.55378074         nan] \n"
     ]
    }
   ],
   "source": [
    "Fit_ero = eep[1]**0.5\n",
    "Fit_o = neep[1]\n",
    "\n",
    "print('\\n e/p = ',Fit_o,' +/-', Fit_ero,'')"
   ]
  },
  {
   "cell_type": "code",
   "execution_count": 130,
   "id": "3b82d947",
   "metadata": {},
   "outputs": [
    {
     "data": {
      "image/png": "[encoded data removed]",
      "text/plain": [
       "<Figure size 432x288 with 1 Axes>"
      ]
     },
     "metadata": {
      "needs_background": "light"
     },
     "output_type": "display_data"
    }
   ],
   "source": [
    "fig = plt.figure()\n",
    "axes = fig.add_axes([0.1,0.1,0.8,0.8])\n",
    "axes.set_xlabel('e/p')\n",
    "axes.set_ylabel('Number of particles')\n",
    "\n",
    "axes.errorbar(ep, nn, yerr = ero, fmt='.', label = 'Error');"
   ]
  },
  {
   "cell_type": "code",
   "execution_count": 131,
   "id": "41547f3f",
   "metadata": {},
   "outputs": [
    {
     "ename": "TypeError",
     "evalue": "gauss1() missing 1 required positional argument: 'p3'",
     "output_type": "error",
     "traceback": [
      "\u001b[1;31m---------------------------------------------------------------------------\u001b[0m",
      "\u001b[1;31mTypeError\u001b[0m                                 Traceback (most recent call last)",
      "\u001b[1;32m<ipython-input-131-6ae82649099b>\u001b[0m in \u001b[0;36m<module>\u001b[1;34m\u001b[0m\n\u001b[0;32m      4\u001b[0m \u001b[0maxes\u001b[0m\u001b[1;33m.\u001b[0m\u001b[0mset_ylabel\u001b[0m\u001b[1;33m(\u001b[0m\u001b[1;34m'Number of particles'\u001b[0m\u001b[1;33m)\u001b[0m\u001b[1;33m\u001b[0m\u001b[1;33m\u001b[0m\u001b[0m\n\u001b[0;32m      5\u001b[0m \u001b[1;33m\u001b[0m\u001b[0m\n\u001b[1;32m----> 6\u001b[1;33m \u001b[0maxes\u001b[0m\u001b[1;33m.\u001b[0m\u001b[0mplot\u001b[0m\u001b[1;33m(\u001b[0m\u001b[0mnn\u001b[0m\u001b[1;33m,\u001b[0m \u001b[0mgauss1\u001b[0m\u001b[1;33m(\u001b[0m\u001b[0mnn\u001b[0m\u001b[1;33m,\u001b[0m \u001b[0mneep\u001b[0m\u001b[1;33m[\u001b[0m\u001b[1;36m0\u001b[0m\u001b[1;33m]\u001b[0m\u001b[1;33m,\u001b[0m \u001b[0mneep\u001b[0m\u001b[1;33m[\u001b[0m\u001b[1;36m1\u001b[0m\u001b[1;33m]\u001b[0m\u001b[1;33m)\u001b[0m\u001b[1;33m,\u001b[0m\u001b[1;34m'k--'\u001b[0m\u001b[1;33m,\u001b[0m \u001b[0mlabel\u001b[0m \u001b[1;33m=\u001b[0m \u001b[1;34m'Signal'\u001b[0m\u001b[1;33m)\u001b[0m\u001b[1;33m\u001b[0m\u001b[1;33m\u001b[0m\u001b[0m\n\u001b[0m\u001b[0;32m      7\u001b[0m \u001b[1;33m\u001b[0m\u001b[0m\n\u001b[0;32m      8\u001b[0m \u001b[1;33m\u001b[0m\u001b[0m\n",
      "\u001b[1;31mTypeError\u001b[0m: gauss1() missing 1 required positional argument: 'p3'"
     ]
    },
    {
     "data": {
      "image/png": "[encoded data removed]",
      "text/plain": [
       "<Figure size 432x288 with 1 Axes>"
      ]
     },
     "metadata": {
      "needs_background": "light"
     },
     "output_type": "display_data"
    }
   ],
   "source": [
    "fig = plt.figure()\n",
    "axes = fig.add_axes([0.1,0.1,0.8,0.8])\n",
    "axes.set_xlabel('e/p')\n",
    "axes.set_ylabel('Number of particles')\n",
    "\n",
    "axes.plot(nn, gauss1(nn, neep[0], neep[1]),'k--', label = 'Signal')\n",
    "\n",
    "\n",
    "axes.errorbar(ep, nn, yerr = ero, fmt='.', label = 'Error');"
   ]
  },
  {
   "cell_type": "code",
   "execution_count": null,
   "id": "3c3a4ddd",
   "metadata": {},
   "outputs": [],
   "source": []
  }
 ],
 "metadata": {
  "kernelspec": {
   "display_name": "Python 3",
   "language": "python",
   "name": "python3"
  },
  "language_info": {
   "codemirror_mode": {
    "name": "ipython",
    "version": 3
   },
   "file_extension": ".py",
   "mimetype": "text/x-python",
   "name": "python",
   "nbconvert_exporter": "python",
   "pygments_lexer": "ipython3",
   "version": "3.8.8"
  }
 },
 "nbformat": 4,
 "nbformat_minor": 5
}
